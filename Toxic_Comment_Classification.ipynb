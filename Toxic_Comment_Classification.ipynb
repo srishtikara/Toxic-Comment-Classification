{
  "nbformat": 4,
  "nbformat_minor": 0,
  "metadata": {
    "colab": {
      "name": "Toxic Comment Classification.ipynb",
      "provenance": [],
      "toc_visible": true,
      "authorship_tag": "ABX9TyPDhhmrNBJEvIu/5AXYN/zy",
      "include_colab_link": true
    },
    "kernelspec": {
      "name": "python3",
      "display_name": "Python 3"
    }
  },
  "cells": [
    {
      "cell_type": "markdown",
      "metadata": {
        "id": "view-in-github",
        "colab_type": "text"
      },
      "source": [
        "<a href=\"https://colab.research.google.com/github/srishtikara/Toxic-Comment-Classification/blob/master/Toxic_Comment_Classification.ipynb\" target=\"_parent\"><img src=\"https://colab.research.google.com/assets/colab-badge.svg\" alt=\"Open In Colab\"/></a>"
      ]
    },
    {
      "cell_type": "markdown",
      "metadata": {
        "id": "nrZf88V8Xgva",
        "colab_type": "text"
      },
      "source": [
        "# Introduction\n",
        "\n",
        "The purpose of this project is to build a multi-headed model that’s capable of detecting different types of of toxicity like threats, obscenity, insults, and identity-based hate from comments. I will be using a dataset of comments from Wikipedia’s talk page edits. Online platforms struggle to effectively facilitate conversations, leading many communities to limit or completely shut down user comments. This project can build a model to help platforms deal with the problem of toxic comments on the internet. "
      ]
    },
    {
      "cell_type": "markdown",
      "metadata": {
        "id": "4SSBnLRsXiNi",
        "colab_type": "text"
      },
      "source": [
        "#Import libraries and load data\n",
        "Import the standard keras library"
      ]
    },
    {
      "cell_type": "code",
      "metadata": {
        "id": "9ABc6BH-X0g6",
        "colab_type": "code",
        "colab": {}
      },
      "source": [
        "import sys, os, re, csv, codecs, numpy as np, pandas as pd\n",
        "import matplotlib.pyplot as plt\n",
        "%matplotlib inline\n",
        "from keras.preprocessing.text import Tokenizer\n",
        "from keras.preprocessing.sequence import pad_sequences\n",
        "from keras.layers import Dense, Input, LSTM, Embedding, Dropout, Activation\n",
        "from keras.layers import Bidirectional, GlobalMaxPool1D\n",
        "from keras.models import Model\n",
        "from keras import initializers, regularizers, constraints, optimizers, layers"
      ],
      "execution_count": null,
      "outputs": []
    },
    {
      "cell_type": "markdown",
      "metadata": {
        "id": "L76d0KpBYCkO",
        "colab_type": "text"
      },
      "source": [
        "Next, I loaded the train and test files from my google drive"
      ]
    },
    {
      "cell_type": "code",
      "metadata": {
        "id": "Va0MGSw_YFA-",
        "colab_type": "code",
        "colab": {
          "base_uri": "https://localhost:8080/",
          "height": 54
        },
        "outputId": "659bb2b5-6dcc-4b80-9a50-1dda7de894cc"
      },
      "source": [
        "from google.colab import drive\n",
        "drive.mount('/content/gdrive')\n",
        "train = pd.read_csv('/content/gdrive/My Drive/train.csv')\n",
        "test = pd.read_csv('/content/gdrive/My Drive/test.csv')"
      ],
      "execution_count": null,
      "outputs": [
        {
          "output_type": "stream",
          "text": [
            "Drive already mounted at /content/gdrive; to attempt to forcibly remount, call drive.mount(\"/content/gdrive\", force_remount=True).\n"
          ],
          "name": "stdout"
        }
      ]
    },
    {
      "cell_type": "markdown",
      "metadata": {
        "id": "nE4UNUVgYLSV",
        "colab_type": "text"
      },
      "source": [
        "Here you can see the first 5 rows of the data and see the preview of the train and test dataset.\n",
        "\n"
      ]
    },
    {
      "cell_type": "code",
      "metadata": {
        "id": "2exIPKqdYN0J",
        "colab_type": "code",
        "colab": {
          "base_uri": "https://localhost:8080/",
          "height": 204
        },
        "outputId": "96482543-50d2-4c4c-9d25-226332dade32"
      },
      "source": [
        "train.head()"
      ],
      "execution_count": null,
      "outputs": [
        {
          "output_type": "execute_result",
          "data": {
            "text/html": [
              "<div>\n",
              "<style scoped>\n",
              "    .dataframe tbody tr th:only-of-type {\n",
              "        vertical-align: middle;\n",
              "    }\n",
              "\n",
              "    .dataframe tbody tr th {\n",
              "        vertical-align: top;\n",
              "    }\n",
              "\n",
              "    .dataframe thead th {\n",
              "        text-align: right;\n",
              "    }\n",
              "</style>\n",
              "<table border=\"1\" class=\"dataframe\">\n",
              "  <thead>\n",
              "    <tr style=\"text-align: right;\">\n",
              "      <th></th>\n",
              "      <th>id</th>\n",
              "      <th>comment_text</th>\n",
              "      <th>toxic</th>\n",
              "      <th>severe_toxic</th>\n",
              "      <th>obscene</th>\n",
              "      <th>threat</th>\n",
              "      <th>insult</th>\n",
              "      <th>identity_hate</th>\n",
              "    </tr>\n",
              "  </thead>\n",
              "  <tbody>\n",
              "    <tr>\n",
              "      <th>0</th>\n",
              "      <td>0000997932d777bf</td>\n",
              "      <td>Explanation\\nWhy the edits made under my usern...</td>\n",
              "      <td>0</td>\n",
              "      <td>0</td>\n",
              "      <td>0</td>\n",
              "      <td>0</td>\n",
              "      <td>0</td>\n",
              "      <td>0</td>\n",
              "    </tr>\n",
              "    <tr>\n",
              "      <th>1</th>\n",
              "      <td>000103f0d9cfb60f</td>\n",
              "      <td>D'aww! He matches this background colour I'm s...</td>\n",
              "      <td>0</td>\n",
              "      <td>0</td>\n",
              "      <td>0</td>\n",
              "      <td>0</td>\n",
              "      <td>0</td>\n",
              "      <td>0</td>\n",
              "    </tr>\n",
              "    <tr>\n",
              "      <th>2</th>\n",
              "      <td>000113f07ec002fd</td>\n",
              "      <td>Hey man, I'm really not trying to edit war. It...</td>\n",
              "      <td>0</td>\n",
              "      <td>0</td>\n",
              "      <td>0</td>\n",
              "      <td>0</td>\n",
              "      <td>0</td>\n",
              "      <td>0</td>\n",
              "    </tr>\n",
              "    <tr>\n",
              "      <th>3</th>\n",
              "      <td>0001b41b1c6bb37e</td>\n",
              "      <td>\"\\nMore\\nI can't make any real suggestions on ...</td>\n",
              "      <td>0</td>\n",
              "      <td>0</td>\n",
              "      <td>0</td>\n",
              "      <td>0</td>\n",
              "      <td>0</td>\n",
              "      <td>0</td>\n",
              "    </tr>\n",
              "    <tr>\n",
              "      <th>4</th>\n",
              "      <td>0001d958c54c6e35</td>\n",
              "      <td>You, sir, are my hero. Any chance you remember...</td>\n",
              "      <td>0</td>\n",
              "      <td>0</td>\n",
              "      <td>0</td>\n",
              "      <td>0</td>\n",
              "      <td>0</td>\n",
              "      <td>0</td>\n",
              "    </tr>\n",
              "  </tbody>\n",
              "</table>\n",
              "</div>"
            ],
            "text/plain": [
              "                 id  ... identity_hate\n",
              "0  0000997932d777bf  ...             0\n",
              "1  000103f0d9cfb60f  ...             0\n",
              "2  000113f07ec002fd  ...             0\n",
              "3  0001b41b1c6bb37e  ...             0\n",
              "4  0001d958c54c6e35  ...             0\n",
              "\n",
              "[5 rows x 8 columns]"
            ]
          },
          "metadata": {
            "tags": []
          },
          "execution_count": 37
        }
      ]
    },
    {
      "cell_type": "markdown",
      "metadata": {
        "id": "M_ZpgNlEXij-",
        "colab_type": "text"
      },
      "source": [
        "# Preprocessing Steps\n",
        "Now, check for nulls. If missing, fill the null values with something else before proceeding.\n",
        "\n"
      ]
    },
    {
      "cell_type": "code",
      "metadata": {
        "id": "INBApT8qyvID",
        "colab_type": "code",
        "colab": {
          "base_uri": "https://localhost:8080/",
          "height": 204
        },
        "outputId": "3579c70f-fef3-4d15-fa67-d5777d2d9a6e"
      },
      "source": [
        "train.isnull().any(),test.isnull().any()\n"
      ],
      "execution_count": null,
      "outputs": [
        {
          "output_type": "execute_result",
          "data": {
            "text/plain": [
              "(id               False\n",
              " comment_text     False\n",
              " toxic            False\n",
              " severe_toxic     False\n",
              " obscene          False\n",
              " threat           False\n",
              " insult           False\n",
              " identity_hate    False\n",
              " dtype: bool, id              False\n",
              " comment_text    False\n",
              " dtype: bool)"
            ]
          },
          "metadata": {
            "tags": []
          },
          "execution_count": 38
        }
      ]
    },
    {
      "cell_type": "markdown",
      "metadata": {
        "id": "7d_W5ooJy0EA",
        "colab_type": "text"
      },
      "source": [
        "It looks like there are no null values. Great news!"
      ]
    },
    {
      "cell_type": "markdown",
      "metadata": {
        "id": "XWoyYYbuXi2u",
        "colab_type": "text"
      },
      "source": [
        "# Tokenization, Indexing, Index representation using Keras"
      ]
    },
    {
      "cell_type": "markdown",
      "metadata": {
        "id": "C6vubuKEzMdo",
        "colab_type": "text"
      },
      "source": [
        "The goal is to feed the comments into the LSTM as part of the neural network. Long short-term memory (LSTM) is an artificial recurrent neural network architecture used in the field of deep learning. Unlike standard feedforward neural networks, LSTM has feedback connections. It can not only process single data points, but also entire sequences of data.\n",
        "\n",
        "As seen in the preview of the data, the dependent variables are in the training set. Hence, I first have to split them into X and Y sets.\n",
        "\n",
        "Tokenization is the process of turning a meaningful piece of data, such as an account number, into a random string of characters called a token that has no meaningful value if breached. First I break down the sentence into unique words. Next, apply indexing which means to put the words in a structure and give them an index. Then, one can represent the sequence of words in the comments in the form of an index."
      ]
    },
    {
      "cell_type": "code",
      "metadata": {
        "id": "_looJJJuzgtt",
        "colab_type": "code",
        "colab": {}
      },
      "source": [
        "list_classes = [\"toxic\", \"severe_toxic\", \"obscene\", \"threat\", \"insult\", \"identity_hate\"]\n",
        "y = train[list_classes].values\n",
        "list_sentences_train = train[\"comment_text\"]\n",
        "list_sentences_test = test[\"comment_text\"]"
      ],
      "execution_count": null,
      "outputs": []
    },
    {
      "cell_type": "code",
      "metadata": {
        "id": "xRaxhJjAzhmZ",
        "colab_type": "code",
        "colab": {}
      },
      "source": [
        "max_features = 20000\n",
        "tokenizer = Tokenizer(num_words=max_features)\n",
        "tokenizer.fit_on_texts(list(list_sentences_train))\n",
        "list_tokenized_train = tokenizer.texts_to_sequences(list_sentences_train)\n",
        "list_tokenized_test = tokenizer.texts_to_sequences(list_sentences_test)"
      ],
      "execution_count": null,
      "outputs": []
    },
    {
      "cell_type": "code",
      "metadata": {
        "id": "7VFhJkb8zuwz",
        "colab_type": "code",
        "colab": {
          "base_uri": "https://localhost:8080/",
          "height": 816
        },
        "outputId": "b27f7995-9c65-42e8-e55b-7a9ae22d3495"
      },
      "source": [
        "list_tokenized_train[:1]"
      ],
      "execution_count": null,
      "outputs": [
        {
          "output_type": "execute_result",
          "data": {
            "text/plain": [
              "[[688,\n",
              "  75,\n",
              "  1,\n",
              "  126,\n",
              "  130,\n",
              "  177,\n",
              "  29,\n",
              "  672,\n",
              "  4511,\n",
              "  12052,\n",
              "  1116,\n",
              "  86,\n",
              "  331,\n",
              "  51,\n",
              "  2278,\n",
              "  11448,\n",
              "  50,\n",
              "  6864,\n",
              "  15,\n",
              "  60,\n",
              "  2756,\n",
              "  148,\n",
              "  7,\n",
              "  2937,\n",
              "  34,\n",
              "  117,\n",
              "  1221,\n",
              "  15190,\n",
              "  2825,\n",
              "  4,\n",
              "  45,\n",
              "  59,\n",
              "  244,\n",
              "  1,\n",
              "  365,\n",
              "  31,\n",
              "  1,\n",
              "  38,\n",
              "  27,\n",
              "  143,\n",
              "  73,\n",
              "  3462,\n",
              "  89,\n",
              "  3085,\n",
              "  4583,\n",
              "  2273,\n",
              "  985]]"
            ]
          },
          "metadata": {
            "tags": []
          },
          "execution_count": 41
        }
      ]
    },
    {
      "cell_type": "markdown",
      "metadata": {
        "id": "T5o-CN9P9wjM",
        "colab_type": "text"
      },
      "source": [
        "As you can see Keras has turned our words into index representation for us."
      ]
    },
    {
      "cell_type": "markdown",
      "metadata": {
        "id": "cj_nrRYq-0Y0",
        "colab_type": "text"
      },
      "source": [
        "Some comments are bound to be very long, whereas some may just be one word. In this case, we can use \"padding\" in order to make the shorter sentences longer by filling in zeros. We might also have to trim the longer sentences to the same length as the shorter ones. In this case, we have set a max length.\n",
        "\n",
        "It is very important to make sure you do not put a max length to be too short we might lose some useful feature that could reduce accuracy.If you put the max length too long, LSTM cell will have to be larger to store more.\n",
        "\n",
        "I decided to see the distribution of the number of words in sentences to decide the max length.\n",
        "\n",
        "As seen in the histogram, most of the sentence length is about 30+. To be safe, I set the \"maxlen\" to 100."
      ]
    },
    {
      "cell_type": "code",
      "metadata": {
        "id": "VkaAvBoA0FRX",
        "colab_type": "code",
        "colab": {}
      },
      "source": [
        "totalNumWords = [len(one_comment) for one_comment in list_tokenized_train]\n"
      ],
      "execution_count": null,
      "outputs": []
    },
    {
      "cell_type": "code",
      "metadata": {
        "id": "BefLTGrQ0HBb",
        "colab_type": "code",
        "colab": {
          "base_uri": "https://localhost:8080/",
          "height": 265
        },
        "outputId": "537b1e55-78eb-4e0d-e246-ceb3532c665d"
      },
      "source": [
        "plt.hist(totalNumWords,bins = np.arange(0,410,10))#[0,50,100,150,200,250,300,350,400])#,450,500,550,600,650,700,750,800,850,900])\n",
        "plt.show()\n"
      ],
      "execution_count": null,
      "outputs": [
        {
          "output_type": "display_data",
          "data": {
            "image/png": "[encoded data removed]",
            "text/plain": [
              "<Figure size 432x288 with 1 Axes>"
            ]
          },
          "metadata": {
            "tags": [],
            "needs_background": "light"
          }
        }
      ]
    },
    {
      "cell_type": "code",
      "metadata": {
        "id": "tdf_dj6qz5nZ",
        "colab_type": "code",
        "colab": {}
      },
      "source": [
        "maxlen = 100\n",
        "X_t = pad_sequences(list_tokenized_train, maxlen=maxlen)\n",
        "X_te = pad_sequences(list_tokenized_test, maxlen=maxlen)"
      ],
      "execution_count": null,
      "outputs": []
    },
    {
      "cell_type": "markdown",
      "metadata": {
        "id": "dihTkRDgzEXl",
        "colab_type": "text"
      },
      "source": [
        "# Embedding"
      ]
    },
    {
      "cell_type": "markdown",
      "metadata": {
        "id": "eieGUtg80WpR",
        "colab_type": "text"
      },
      "source": [
        "I want Keras to infer the number automatically. An empty space after comma will do just that.\n",
        "\n"
      ]
    },
    {
      "cell_type": "code",
      "metadata": {
        "id": "rBSKrADE0Ybo",
        "colab_type": "code",
        "colab": {}
      },
      "source": [
        "inp = Input(shape=(maxlen, )) #maxlen=100 as defined earlier\n"
      ],
      "execution_count": null,
      "outputs": []
    },
    {
      "cell_type": "markdown",
      "metadata": {
        "id": "bYL5yvCs0dmo",
        "colab_type": "text"
      },
      "source": [
        "\n",
        "\"Word Embeddings are the texts converted into numbers and there may be different numerical representations of the same text. Many Machine Learning algorithms and almost all Deep Learning Architectures are incapable of processing strings or plain text in their raw form. They require numbers as inputs to perform any sort of job, be it classification, regression etc. in broad terms. And with the huge amount of data that is present in the text format, it is imperative to extract knowledge out of it and build applications. A Word Embedding format generally tries to map a word using a dictionary to a vector. A vector representation of a word may be a one-hot encoded vector where 1 stands for the position where the word exists and 0 everywhere else. The vector representation of “numbers” in this format according to the above dictionary is [0,0,0,0,0,1] and of converted is[0,0,0,1,0,0].\" (www.analyticsvidhya.com)\n",
        "\n",
        "We project words to a defined vector space depending on the distance of all the surrounding words in a sentence. \n",
        "\n",
        "Embedding allows us to reduce model size and the dimensions. The output of the Embedding layer is a list of the coordinates of the words in this vector space.\n",
        "\n",
        "Note: We need to define the size of the \"vector space\"  and the number of unique words(max_features) we are using.  In this case, the embedding size is a parameter that you can tune and experiment to get better accuracy. "
      ]
    },
    {
      "cell_type": "code",
      "metadata": {
        "id": "_8TKK39P0gum",
        "colab_type": "code",
        "colab": {}
      },
      "source": [
        "embed_size = 128\n",
        "x = Embedding(max_features, embed_size)(inp)"
      ],
      "execution_count": null,
      "outputs": []
    },
    {
      "cell_type": "markdown",
      "metadata": {
        "id": "cU3W_uyn0U34",
        "colab_type": "text"
      },
      "source": [
        "# LSTM"
      ]
    },
    {
      "cell_type": "markdown",
      "metadata": {
        "id": "i5tA6SZ50whR",
        "colab_type": "text"
      },
      "source": [
        "Next, I feed this Tensor into the LSTM layer and set the LSTM to produce an output that has a dimension of 60. We want it to return the entire unrolled sequence of results. \n"
      ]
    },
    {
      "cell_type": "code",
      "metadata": {
        "id": "MGTUlCGR0099",
        "colab_type": "code",
        "colab": {}
      },
      "source": [
        "x = LSTM(60, return_sequences=True,name='lstm_layer')(x)\n"
      ],
      "execution_count": null,
      "outputs": []
    },
    {
      "cell_type": "markdown",
      "metadata": {
        "id": "9GYPWZxbQBek",
        "colab_type": "text"
      },
      "source": [
        "# Max Pooling"
      ]
    },
    {
      "cell_type": "markdown",
      "metadata": {
        "id": "spV1gTKH04Fs",
        "colab_type": "text"
      },
      "source": [
        "Now, we have to reshape the output from the 3D tensor into a 2D tensor.  I used a Global Max Pooling layer. Here, we go through each patch of data and take the maximum values of each patch. These collection of maximum values will be a new set of down-sized data we can use."
      ]
    },
    {
      "cell_type": "code",
      "metadata": {
        "id": "lVYz1o9X06Y5",
        "colab_type": "code",
        "colab": {}
      },
      "source": [
        "x = GlobalMaxPool1D()(x)\n"
      ],
      "execution_count": null,
      "outputs": []
    },
    {
      "cell_type": "markdown",
      "metadata": {
        "id": "tAvgJYRKQKu-",
        "colab_type": "text"
      },
      "source": [
        "# Dropout, Dense, Dropout, Dense"
      ]
    },
    {
      "cell_type": "markdown",
      "metadata": {
        "id": "cZ36MOiB08tS",
        "colab_type": "text"
      },
      "source": [
        "Now, moving on to the dropout layer. This \"disables” some nodes so that the nodes in the next layer is forced to handle the representation of the missing data and the whole network could result in better generalization.\n",
        "\n",
        "Set the dropout layer to drop out 10%(0.1) of the nodes.\n",
        "\n"
      ]
    },
    {
      "cell_type": "code",
      "metadata": {
        "id": "kqaE5wqM09On",
        "colab_type": "code",
        "colab": {}
      },
      "source": [
        "x = Dropout(0.1)(x)\n"
      ],
      "execution_count": null,
      "outputs": []
    },
    {
      "cell_type": "markdown",
      "metadata": {
        "id": "uAjX7KFq1BNs",
        "colab_type": "text"
      },
      "source": [
        "After a drop out layer, I connected the output of drop out layer to a densely connected layer and the output passes through a RELU function. \n",
        "\n",
        "This is what it does:\n",
        "\n",
        "Activation( (Input X Weights) + Bias)\n",
        "\n",
        "I have defined the Dense layer to produce a output dimension of 50.\n"
      ]
    },
    {
      "cell_type": "code",
      "metadata": {
        "id": "uOaOfrjJ1QJa",
        "colab_type": "code",
        "colab": {}
      },
      "source": [
        "x = Dense(50, activation=\"relu\")(x)\n"
      ],
      "execution_count": null,
      "outputs": []
    },
    {
      "cell_type": "markdown",
      "metadata": {
        "id": "704AXHtH1RWy",
        "colab_type": "text"
      },
      "source": [
        "Now, I feed the output into a Dropout layer again.\n",
        "\n"
      ]
    },
    {
      "cell_type": "code",
      "metadata": {
        "id": "DcTarBDk1S7c",
        "colab_type": "code",
        "colab": {}
      },
      "source": [
        "x = Dropout(0.1)(x)\n"
      ],
      "execution_count": null,
      "outputs": []
    },
    {
      "cell_type": "markdown",
      "metadata": {
        "id": "kfID7hMk1Uq_",
        "colab_type": "text"
      },
      "source": [
        "Finally, I feed the output into a Sigmoid layer. \n",
        "\n",
        "The sigmoid function will squash the output between the bounds of 0 and 1 and we are trying to get a binary classification(1,0) for each of the 6 labels. \n",
        "\n"
      ]
    },
    {
      "cell_type": "code",
      "metadata": {
        "id": "zD3i511H1WfF",
        "colab_type": "code",
        "colab": {}
      },
      "source": [
        "x = Dense(6, activation=\"sigmoid\")(x)\n"
      ],
      "execution_count": null,
      "outputs": []
    },
    {
      "cell_type": "markdown",
      "metadata": {
        "id": "-bFSiIkO1Xwm",
        "colab_type": "text"
      },
      "source": [
        "Now, I define the inputs, outputs and configure the learning process. \n",
        "\n",
        "I have set the model to optimize loss function using Adam optimizer. I have defined the loss function to be \"binary_crossentropy\" since we are tackling a binary classification.\n"
      ]
    },
    {
      "cell_type": "code",
      "metadata": {
        "id": "zKUmduGf1aze",
        "colab_type": "code",
        "colab": {}
      },
      "source": [
        "model = Model(inputs=inp, outputs=x)\n",
        "model.compile(loss='binary_crossentropy',\n",
        "                  optimizer='adam',\n",
        "                  metrics=['accuracy'])"
      ],
      "execution_count": null,
      "outputs": []
    },
    {
      "cell_type": "markdown",
      "metadata": {
        "id": "3JpGrVpD1cOr",
        "colab_type": "text"
      },
      "source": [
        "Now it is finally time to test the model! \n",
        "\n",
        "I will feed in a list of 32 padded, indexed sentence for each batch and split 10% of the data as a validation set. \n",
        "\n",
        "For each batch this validation set will be used to assess whether the model has overfitted.\n",
        "\n",
        "The model will run for 2 epochs. \n",
        "\n",
        "Note: the parameters can be changed.\n"
      ]
    },
    {
      "cell_type": "code",
      "metadata": {
        "id": "qP0jTI0S1fs5",
        "colab_type": "code",
        "colab": {
          "base_uri": "https://localhost:8080/",
          "height": 173
        },
        "outputId": "828a2a96-1f23-4d3e-a1a6-e0cdbaf10e48"
      },
      "source": [
        "batch_size = 32\n",
        "epochs = 2\n",
        "model.fit(X_t,y, batch_size=batch_size, epochs=epochs, validation_split=0.1)"
      ],
      "execution_count": null,
      "outputs": [
        {
          "output_type": "stream",
          "text": [
            "/usr/local/lib/python3.6/dist-packages/tensorflow/python/framework/indexed_slices.py:434: UserWarning: Converting sparse IndexedSlices to a dense Tensor of unknown shape. This may consume a large amount of memory.\n",
            "  \"Converting sparse IndexedSlices to a dense Tensor of unknown shape. \"\n"
          ],
          "name": "stderr"
        },
        {
          "output_type": "stream",
          "text": [
            "Train on 143613 samples, validate on 15958 samples\n",
            "Epoch 1/2\n",
            "143613/143613 [==============================] - 520s 4ms/step - loss: 0.0691 - accuracy: 0.9779 - val_loss: 0.0498 - val_accuracy: 0.9818\n",
            "Epoch 2/2\n",
            "143613/143613 [==============================] - 519s 4ms/step - loss: 0.0458 - accuracy: 0.9829 - val_loss: 0.0511 - val_accuracy: 0.9822\n"
          ],
          "name": "stdout"
        },
        {
          "output_type": "execute_result",
          "data": {
            "text/plain": [
              "<keras.callbacks.callbacks.History at 0x7f1127d1beb8>"
            ]
          },
          "metadata": {
            "tags": []
          },
          "execution_count": 62
        }
      ]
    },
    {
      "cell_type": "markdown",
      "metadata": {
        "id": "IdN9GdDc1M2P",
        "colab_type": "text"
      },
      "source": [
        "# Conclusion"
      ]
    },
    {
      "cell_type": "markdown",
      "metadata": {
        "id": "7wrwNbHk1rDU",
        "colab_type": "text"
      },
      "source": [
        "The accuracy is very good. Keras cuts down a lot of time and one does not have to spend a ton of time defining the right dimensions for matrices. Keras is an open-source neural-network library written in Python. It is capable of running on top of TensorFlow, Microsoft Cognitive Toolkit, R, Theano, or PlaidML. Designed to enable fast experimentation with deep neural networks, it focuses on being user-friendly, modular, and extensible. Now, instead of spending time on defining the right dimentions for matrices, I can spend time on experimenting with different variations of model."
      ]
    }
  ]
}